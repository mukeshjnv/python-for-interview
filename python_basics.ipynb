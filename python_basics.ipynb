{
 "cells": [
  {
   "cell_type": "markdown",
   "id": "d4244a9b",
   "metadata": {},
   "source": [
    "### Sets - unordered collection of objects"
   ]
  },
  {
   "cell_type": "code",
   "execution_count": 7,
   "id": "38552d48",
   "metadata": {},
   "outputs": [
    {
     "data": {
      "text/plain": [
       "set"
      ]
     },
     "execution_count": 7,
     "metadata": {},
     "output_type": "execute_result"
    }
   ],
   "source": [
    "# define\n",
    "s={1,2,3,4,5}\n",
    "type(s)"
   ]
  },
  {
   "cell_type": "code",
   "execution_count": 8,
   "id": "1c2f398d",
   "metadata": {},
   "outputs": [
    {
     "data": {
      "text/plain": [
       "set"
      ]
     },
     "execution_count": 8,
     "metadata": {},
     "output_type": "execute_result"
    }
   ],
   "source": [
    "# Empty set\n",
    "s={} ## it is not set, infact it is an empty dict\n",
    "type(s)\n",
    "\n",
    "# To define empty set, use this\n",
    "s=set()\n",
    "type(s)"
   ]
  },
  {
   "cell_type": "code",
   "execution_count": 9,
   "id": "0a20d898",
   "metadata": {},
   "outputs": [
    {
     "name": "stdout",
     "output_type": "stream",
     "text": [
      "Union of s1 & s2 : {1, 2, 3, 5}\n",
      "Intersection of s1 & s2 : {2}\n",
      "difference of s1 & s2 : {1, 3}\n",
      "difference of s1 & s2 : {5}\n",
      "symmetric difference of s1 & s2 : {1, 3, 5}\n"
     ]
    }
   ],
   "source": [
    "# Union, Intersection, difference, symmetric difference\n",
    "s1={1,2,3}\n",
    "s2={2,5}\n",
    "print(f'Union of s1 & s2 : {s1.union(s2)}')\n",
    "print(f'Intersection of s1 & s2 : {s1.intersection(s2)}')\n",
    "print(f'difference of s1 & s2 : {s1-(s2)}')\n",
    "print(f'difference of s1 & s2 : {(s2)-s1}')\n",
    "print(f'symmetric difference of s1 & s2 : {s1.union(s2)-s1.intersection(s2)}')"
   ]
  },
  {
   "cell_type": "code",
   "execution_count": 10,
   "id": "7744f947",
   "metadata": {},
   "outputs": [],
   "source": [
    "# s={1,2,[4,5]} throw an error as it does not contain unhashable object/mutable object\n",
    "\n",
    "s={1,2,(4,5)}"
   ]
  },
  {
   "cell_type": "markdown",
   "id": "7b66f36e",
   "metadata": {},
   "source": [
    "### Dictionary - unordered collection of key value pairs"
   ]
  },
  {
   "cell_type": "code",
   "execution_count": 11,
   "id": "2f4ba4c2",
   "metadata": {},
   "outputs": [
    {
     "data": {
      "text/plain": [
       "{'Name': 'Mukesh', 'Profession': 'BA', 'Age': 25, 2: 45}"
      ]
     },
     "execution_count": 11,
     "metadata": {},
     "output_type": "execute_result"
    }
   ],
   "source": [
    "# key- should be unique, hashable, immutable\n",
    "# value - can be anything\n",
    "d={'Name':'Mukesh', 'Profession':'BA','Age':25,2:45}\n",
    "d"
   ]
  },
  {
   "cell_type": "code",
   "execution_count": 12,
   "id": "42186df5",
   "metadata": {},
   "outputs": [
    {
     "data": {
      "text/plain": [
       "'does not found'"
      ]
     },
     "execution_count": 12,
     "metadata": {},
     "output_type": "execute_result"
    }
   ],
   "source": [
    "d.values()\n",
    "d.keys()\n",
    "d.items()\n",
    "d.get(2)\n",
    "d.get('2', 'does not found')"
   ]
  },
  {
   "cell_type": "markdown",
   "id": "afe798df",
   "metadata": {},
   "source": [
    "### **lambda function**"
   ]
  },
  {
   "cell_type": "code",
   "execution_count": null,
   "id": "0097d85f",
   "metadata": {},
   "outputs": [
    {
     "data": {
      "text/plain": [
       "25"
      ]
     },
     "execution_count": 13,
     "metadata": {},
     "output_type": "execute_result"
    }
   ],
   "source": [
    "# lambda function\n",
    "f=lambda x:x**2\n",
    "f(5)\n"
   ]
  },
  {
   "cell_type": "code",
   "execution_count": 15,
   "id": "2c8e9e1e",
   "metadata": {},
   "outputs": [
    {
     "data": {
      "text/plain": [
       "11"
      ]
     },
     "execution_count": 15,
     "metadata": {},
     "output_type": "execute_result"
    }
   ],
   "source": [
    "# lambda function with two arguments\n",
    "add=lambda x,y:x+y\n",
    "add(5,6)"
   ]
  },
  {
   "cell_type": "code",
   "execution_count": 16,
   "id": "7f23342f",
   "metadata": {},
   "outputs": [
    {
     "data": {
      "text/plain": [
       "6"
      ]
     },
     "execution_count": 16,
     "metadata": {},
     "output_type": "execute_result"
    }
   ],
   "source": [
    "# maximum of two numbers\n",
    "maximum=lambda x,y: x if x>y else y\n",
    "maximum(5,6)"
   ]
  },
  {
   "cell_type": "code",
   "execution_count": 20,
   "id": "d965bbe0",
   "metadata": {},
   "outputs": [
    {
     "data": {
      "text/plain": [
       "[3, 7, 0]"
      ]
     },
     "execution_count": 20,
     "metadata": {},
     "output_type": "execute_result"
    }
   ],
   "source": [
    "pairs = [(1, 2), (3, 4), (5, 6)]\n",
    "list(map(lambda x: 0 if x[0]==5 else x[0] + x[1], pairs))"
   ]
  },
  {
   "cell_type": "code",
   "execution_count": null,
   "id": "77790732",
   "metadata": {},
   "outputs": [
    {
     "name": "stdout",
     "output_type": "stream",
     "text": [
      "True\n"
     ]
    }
   ],
   "source": [
    "# function to check prime number\n",
    "def is_prime(n):\n",
    "    if n<=1:\n",
    "        return False\n",
    "    # this logic is for optimization and is an important concept.\n",
    "    for i in range(2, int(n**0.5)+1):\n",
    "        if n%i==0:\n",
    "            return False\n",
    "    return True\n",
    "\n",
    "print(is_prime(11))"
   ]
  }
 ],
 "metadata": {
  "kernelspec": {
   "display_name": "testenv (3.12.6)",
   "language": "python",
   "name": "python3"
  },
  "language_info": {
   "codemirror_mode": {
    "name": "ipython",
    "version": 3
   },
   "file_extension": ".py",
   "mimetype": "text/x-python",
   "name": "python",
   "nbconvert_exporter": "python",
   "pygments_lexer": "ipython3",
   "version": "3.12.6"
  }
 },
 "nbformat": 4,
 "nbformat_minor": 5
}
