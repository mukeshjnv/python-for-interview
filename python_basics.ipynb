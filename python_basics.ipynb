{
 "cells": [
  {
   "cell_type": "markdown",
   "id": "d4244a9b",
   "metadata": {},
   "source": [
    "### Sets - unordered collection of objects"
   ]
  },
  {
   "cell_type": "code",
   "execution_count": 3,
   "id": "38552d48",
   "metadata": {},
   "outputs": [
    {
     "data": {
      "text/plain": [
       "set"
      ]
     },
     "execution_count": 3,
     "metadata": {},
     "output_type": "execute_result"
    }
   ],
   "source": [
    "# define\n",
    "s={1,2,3,4,5}\n",
    "type(s)"
   ]
  },
  {
   "cell_type": "code",
   "execution_count": 6,
   "id": "1c2f398d",
   "metadata": {},
   "outputs": [
    {
     "data": {
      "text/plain": [
       "set"
      ]
     },
     "execution_count": 6,
     "metadata": {},
     "output_type": "execute_result"
    }
   ],
   "source": [
    "# Empty set\n",
    "s={} ## it is not set, infact it is an empty dict\n",
    "type(s)\n",
    "\n",
    "# To define empty set, use this\n",
    "s=set()\n",
    "type(s)"
   ]
  },
  {
   "cell_type": "code",
   "execution_count": null,
   "id": "0a20d898",
   "metadata": {},
   "outputs": [
    {
     "name": "stdout",
     "output_type": "stream",
     "text": [
      "Union of s1 & s2 : {1, 2, 3, 5}\n",
      "Intersection of s1 & s2 : {2}\n",
      "difference of s1 & s2 : {1, 3}\n",
      "difference of s1 & s2 : {5}\n",
      "symmetric difference of s1 & s2 : {1, 3, 5}\n"
     ]
    }
   ],
   "source": [
    "# Union, Intersection, difference, symmetric difference\n",
    "s1={1,2,3}\n",
    "s2={2,5}\n",
    "print(f'Union of s1 & s2 : {s1.union(s2)}')\n",
    "print(f'Intersection of s1 & s2 : {s1.intersection(s2)}')\n",
    "print(f'difference of s1 & s2 : {s1-(s2)}')\n",
    "print(f'difference of s1 & s2 : {(s2)-s1}')\n",
    "print(f'symmetric difference of s1 & s2 : {s1.union(s2)-s1.intersection(s2)}')"
   ]
  },
  {
   "cell_type": "code",
   "execution_count": 24,
   "id": "7744f947",
   "metadata": {},
   "outputs": [],
   "source": [
    "# s={1,2,[4,5]} throw an error as it does not contain unhashable object/mutable object\n",
    "\n",
    "s={1,2,(4,5)}"
   ]
  },
  {
   "cell_type": "markdown",
   "id": "7b66f36e",
   "metadata": {},
   "source": [
    "### Dictionary - unordered collection of key value pairs"
   ]
  },
  {
   "cell_type": "code",
   "execution_count": null,
   "id": "2f4ba4c2",
   "metadata": {},
   "outputs": [
    {
     "data": {
      "text/plain": [
       "{'Name': 'Mukesh', 'Profession': 'BA', 'Age': 25, 2: 45}"
      ]
     },
     "execution_count": 26,
     "metadata": {},
     "output_type": "execute_result"
    }
   ],
   "source": [
    "# key- should be unique, hashable, immutable\n",
    "# value - can be anything\n",
    "d={'Name':'Mukesh', 'Profession':'BA','Age':25,2:45}\n",
    "d"
   ]
  },
  {
   "cell_type": "code",
   "execution_count": 52,
   "id": "42186df5",
   "metadata": {},
   "outputs": [
    {
     "data": {
      "text/plain": [
       "'does not found'"
      ]
     },
     "execution_count": 52,
     "metadata": {},
     "output_type": "execute_result"
    }
   ],
   "source": [
    "d.values()\n",
    "d.keys()\n",
    "d.items()\n",
    "d.get(2)\n",
    "d.get('2', 'does not found')"
   ]
  },
  {
   "cell_type": "code",
   "execution_count": null,
   "id": "0097d85f",
   "metadata": {},
   "outputs": [
    {
     "data": {
      "text/plain": [
       "'does not found'"
      ]
     },
     "execution_count": 51,
     "metadata": {},
     "output_type": "execute_result"
    }
   ],
   "source": []
  }
 ],
 "metadata": {
  "kernelspec": {
   "display_name": "testenv (3.12.6)",
   "language": "python",
   "name": "python3"
  },
  "language_info": {
   "codemirror_mode": {
    "name": "ipython",
    "version": 3
   },
   "file_extension": ".py",
   "mimetype": "text/x-python",
   "name": "python",
   "nbconvert_exporter": "python",
   "pygments_lexer": "ipython3",
   "version": "3.12.6"
  }
 },
 "nbformat": 4,
 "nbformat_minor": 5
}
